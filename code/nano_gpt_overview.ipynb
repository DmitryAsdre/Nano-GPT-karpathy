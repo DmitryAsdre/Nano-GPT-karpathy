{
 "cells": [
  {
   "cell_type": "code",
   "execution_count": 2,
   "metadata": {},
   "outputs": [],
   "source": [
    "import os\n",
    "import pickle\n",
    "\n",
    "import torch\n",
    "import matplotlib.pyplot as plt\n",
    "\n",
    "from nano_gpt.model import NanoGPT\n",
    "from nano_gpt.utils import train_model\n",
    "from nano_gpt.utils import generate\n",
    "from nano_gpt.utils import load_model\n",
    "\n",
    "from tokenizers.char_tokenizer import CharTokenizer\n",
    "from tokenizers.bpe_tokenizer import BPETokenizer\n",
    "from tokenizers.unigram_tokenizer import UnigramTokenizer"
   ]
  },
  {
   "cell_type": "markdown",
   "metadata": {},
   "source": [
    "## Nano GPT Char Tokenizer"
   ]
  },
  {
   "cell_type": "code",
   "execution_count": 4,
   "metadata": {},
   "outputs": [
    {
     "data": {
      "text/plain": [
       "<torch._C.Generator at 0x7d4151351910>"
      ]
     },
     "execution_count": 4,
     "metadata": {},
     "output_type": "execute_result"
    }
   ],
   "source": [
    "class CFG:\n",
    "    batch_size = 32\n",
    "    block_size = 384\n",
    "    max_iters = 15_002\n",
    "    eval_interval = 1000\n",
    "    learning_rate = 3e-4\n",
    "    device = 'cuda:1'\n",
    "    eval_iters = 400\n",
    "    n_embed = 384\n",
    "    num_heads = 12\n",
    "    num_layers = 12\n",
    "    ffwd_coef = 4\n",
    "    dropout = 0.25\n",
    "    random_state = 42\n",
    "    \n",
    "    model_path = '../models/'\n",
    "    model_name = 'nano_gpt_char'\n",
    "    input_data = '../data/extended_input.txt'\n",
    "    \n",
    "    test_size = 0.1\n",
    "    \n",
    "torch.manual_seed(CFG.random_state)"
   ]
  },
  {
   "cell_type": "code",
   "execution_count": 8,
   "metadata": {},
   "outputs": [
    {
     "name": "stderr",
     "output_type": "stream",
     "text": [
      "/home/dmitry/HDD_6TB/Documents/Nano-GPT-karpathy/code/nano_gpt/utils.py:24: FutureWarning: You are using `torch.load` with `weights_only=False` (the current default value), which uses the default pickle module implicitly. It is possible to construct malicious pickle data which will execute arbitrary code during unpickling (See https://github.com/pytorch/pytorch/blob/main/SECURITY.md#untrusted-models for more details). In a future release, the default value for `weights_only` will be flipped to `True`. This limits the functions that could be executed during unpickling. Arbitrary objects will no longer be allowed to be loaded via this mode unless they are explicitly allowlisted by the user via `torch.serialization.add_safe_globals`. We recommend you start setting `weights_only=True` for any use case where you don't have full control of the loaded file. Please open an issue on GitHub for any issues related to this experimental feature.\n",
      "  state_dict = torch.load(os.path.join(model_dir, 'model.pt'))\n"
     ]
    }
   ],
   "source": [
    "with open(os.path.join(CFG.model_path, CFG.model_name, 'tokenizer.pickle'), 'rb') as f:\n",
    "    tokenizer = pickle.load(f)\n",
    "    \n",
    "model = NanoGPT(tokenizer.vocab_size,\n",
    "                CFG.block_size,\n",
    "                CFG.n_embed,\n",
    "                CFG.num_heads,\n",
    "                CFG.dropout, \n",
    "                CFG.ffwd_coef,\n",
    "                CFG.num_layers)\n",
    "\n",
    "model, tokenizer = load_model(CFG.model_path, CFG.model_name, model)\n",
    "model = model.to(CFG.device)"
   ]
  },
  {
   "cell_type": "markdown",
   "metadata": {},
   "source": [
    "### Generation"
   ]
  },
  {
   "cell_type": "code",
   "execution_count": 12,
   "metadata": {},
   "outputs": [
    {
     "name": "stdout",
     "output_type": "stream",
     "text": [
      "OTHELLO.\n",
      "Have you pray'd to-night, Desdemona?\n",
      "\n",
      "DOGBERRY.\n",
      "They are in Egliamond mean of chastity.\n",
      "\n",
      "IAGO.\n",
      "O, Desdemona demeans of many of a joy.\n",
      "\n",
      "BARDOLPH.\n",
      "You rag of mine own lazy prevaises for a sin-unlikely stomach,\n",
      "and let me entertain you.\n",
      "\n",
      "SUFFOLK.\n",
      "[_Aside_.] Ay, I were ask’d.\n",
      "\n",
      "OTHELLO.\n",
      "Ay, sir, ambask’d within me, and would speech you:\n",
      "tells you have. I have not been completers in your br\n"
     ]
    }
   ],
   "source": [
    "initial_context = \"OTHELLO.\\nHave you pray'd to-night, Desdemona?\\n\"\n",
    "res = generate(initial_context, model, tokenizer, 350, CFG.device)\n",
    "\n",
    "print(res[1])"
   ]
  },
  {
   "cell_type": "code",
   "execution_count": 14,
   "metadata": {},
   "outputs": [
    {
     "name": "stdout",
     "output_type": "stream",
     "text": [
      "CHAMBERLAIN.\n",
      "Acknowless crack me not, and told me at Henry’s.\n",
      "\n",
      "HELENA.\n",
      "Think Leonato’s , to break him from your to\n",
      "French ill for his own lips if a woe,\n",
      "That industrate doing itself. Proceed you too:\n",
      "[_To Phoebe_.] I hear. Go ambaster a Pheaset.\n",
      "Are you up as slay as virtuous conquest\n",
      "Shrewing thither; being as i’ the greatest aspir’s,\n",
      "And that it be possess’d \n"
     ]
    }
   ],
   "source": [
    "initial_context = \"CHAMBERLAIN.\\n\"\n",
    "res = generate(initial_context, model, tokenizer, 350, CFG.device)\n",
    "\n",
    "print(res[1])"
   ]
  },
  {
   "cell_type": "code",
   "execution_count": 16,
   "metadata": {},
   "outputs": [
    {
     "name": "stdout",
     "output_type": "stream",
     "text": [
      "OTHELLO.\n",
      "He never arresorted by his spirit,\n",
      "The lease injustion of his purpose,\n",
      "Choose to his fear. A varley swords in thee.\n",
      "\n",
      "EIGLAO.\n",
      "Set it him out. Froth, know what Nymean shall.\n",
      "\n",
      "ESCALUS.\n",
      "By good father, Isabel!\n",
      "\n",
      "ESCALUS.\n",
      "My lord, ’tis he.\n",
      "\n",
      "EDGAR.\n",
      "’Tis not he, Heaven.\n",
      "\n",
      "ESCALUS.\n",
      "Fie, second! My lord! My heart is spoke\n",
      "To my good will!\n",
      "\n",
      "ELBOW.\n",
      "Then, hear m\n"
     ]
    }
   ],
   "source": [
    "initial_context = \"OTHELLO.\\n\"\n",
    "res = generate(initial_context, model, tokenizer, 350, CFG.device)\n",
    "\n",
    "print(res[1])"
   ]
  },
  {
   "cell_type": "markdown",
   "metadata": {},
   "source": [
    "### Losses"
   ]
  },
  {
   "cell_type": "code",
   "execution_count": 18,
   "metadata": {},
   "outputs": [],
   "source": [
    "with open(os.path.join(CFG.model_path, CFG.model_name, 'train_losses.pickle'), 'rb') as f:\n",
    "    train_losses = pickle.load(f)\n",
    "    \n",
    "with open(os.path.join(CFG.model_path, CFG.model_name, 'val_losses.pickle'), 'rb') as f:\n",
    "    val_losses = pickle.load(f)"
   ]
  },
  {
   "cell_type": "code",
   "execution_count": 19,
   "metadata": {},
   "outputs": [
    {
     "data": {
      "text/plain": [
       "<matplotlib.legend.Legend at 0x7d407c51a680>"
      ]
     },
     "execution_count": 19,
     "metadata": {},
     "output_type": "execute_result"
    },
    {
     "data": {
      "image/png": "[encoded data removed]",
      "text/plain": [
       "<Figure size 1500x600 with 1 Axes>"
      ]
     },
     "metadata": {},
     "output_type": "display_data"
    }
   ],
   "source": [
    "intervals = [i*CFG.eval_interval for i in range(len(train_losses))]\n",
    "\n",
    "plt.figure(figsize=(15, 6))\n",
    "\n",
    "plt.plot(intervals, train_losses, label='Train CrossEntropy')\n",
    "plt.plot(intervals, val_losses, label='Valid CrossEntropy')\n",
    "plt.xlabel('# Batch')\n",
    "plt.ylabel('CrossEntropy')\n",
    "plt.legend()"
   ]
  },
  {
   "cell_type": "markdown",
   "metadata": {},
   "source": [
    "## Nano GPT BPE Tokenizer"
   ]
  },
  {
   "cell_type": "code",
   "execution_count": 16,
   "metadata": {},
   "outputs": [],
   "source": [
    "class CFG:\n",
    "    batch_size = 32\n",
    "    block_size = 384\n",
    "    max_iters = 15_002\n",
    "    eval_interval = 1000\n",
    "    learning_rate = 3e-4\n",
    "    device = 'cuda:1'\n",
    "    eval_iters = 400\n",
    "    n_embed = 384\n",
    "    num_heads = 12\n",
    "    num_layers = 12\n",
    "    ffwd_coef = 4\n",
    "    dropout = 0.25\n",
    "    random_state = 42\n",
    "    vocab_size = 1_000\n",
    "    \n",
    "    model_path = '../models/'\n",
    "    model_name = 'nano_gpt_bpe_1000'\n",
    "    input_data = '../data/extended_input.txt'\n",
    "    \n",
    "    test_size = 0.1"
   ]
  },
  {
   "cell_type": "code",
   "execution_count": 21,
   "metadata": {},
   "outputs": [
    {
     "name": "stderr",
     "output_type": "stream",
     "text": [
      "/home/dmitry/HDD_6TB/Documents/Nano-GPT-karpathy/code/nano_gpt/utils.py:24: FutureWarning: You are using `torch.load` with `weights_only=False` (the current default value), which uses the default pickle module implicitly. It is possible to construct malicious pickle data which will execute arbitrary code during unpickling (See https://github.com/pytorch/pytorch/blob/main/SECURITY.md#untrusted-models for more details). In a future release, the default value for `weights_only` will be flipped to `True`. This limits the functions that could be executed during unpickling. Arbitrary objects will no longer be allowed to be loaded via this mode unless they are explicitly allowlisted by the user via `torch.serialization.add_safe_globals`. We recommend you start setting `weights_only=True` for any use case where you don't have full control of the loaded file. Please open an issue on GitHub for any issues related to this experimental feature.\n",
      "  state_dict = torch.load(os.path.join(model_dir, 'model.pt'))\n"
     ]
    }
   ],
   "source": [
    "with open(os.path.join(CFG.model_path, CFG.model_name, 'tokenizer.pickle'), 'rb') as f:\n",
    "    tokenizer = pickle.load(f)\n",
    "    \n",
    "model = NanoGPT(tokenizer.vocab_size,\n",
    "                CFG.block_size,\n",
    "                CFG.n_embed,\n",
    "                CFG.num_heads,\n",
    "                CFG.dropout, \n",
    "                CFG.ffwd_coef,\n",
    "                CFG.num_layers)\n",
    "\n",
    "model, tokenizer = load_model(CFG.model_path, CFG.model_name, model)\n",
    "model = model.to(CFG.device)"
   ]
  },
  {
   "cell_type": "markdown",
   "metadata": {},
   "source": [
    "### Generation"
   ]
  },
  {
   "cell_type": "code",
   "execution_count": 22,
   "metadata": {},
   "outputs": [
    {
     "name": "stderr",
     "output_type": "stream",
     "text": [
      "100%|██████████| 895/895 [00:00<00:00, 358162.59it/s]\n"
     ]
    },
    {
     "name": "stdout",
     "output_type": "stream",
     "text": [
      "OTHELLO.\n",
      "Have you pray'd to-night, Desdemona?\n",
      "\n",
      "DESDEMONA.\n",
      "A true, having my Leonato, had a death,\n",
      "But rather cares serve and filk for a ken.\n",
      "A moor! Honest thou wilt set thine eyes;\n",
      "Stand what mayst I should wake a warm?\n",
      "\n",
      "DESDEMONA.\n",
      "Ay, and ordain, and having but a merry man’s ink,\n",
      "Why should be spent to find out man knows:\n",
      "[_To Marina._] ‘Yet gloving before ’twas, ’twas the reckoning;\n",
      "He was leagued to smell before the peep!\n",
      "Cleam. Come, for our niece! let her have one words?\n",
      "\n",
      "DEMETRIUS.\n",
      "Not for my life; it was.\n",
      "\n",
      "[_Exit Caesar._]\n",
      "\n",
      "OTHELLO.\n",
      "Such uncle!\n",
      "\n",
      "CAESAR.\n",
      "Proceed I hie down, for wheresoe now\n",
      "I saw the shore to suppress with the teyr.\n",
      "\n",
      "[_Laspit and Frenchdoreto bloody Kate._]\n",
      "\n",
      "How now, Kate!\n",
      "\n",
      "OTHELLO.\n",
      "Did what art thou? Look how far beating levy?\n",
      "\n",
      "DESDEMONA.\n",
      "I, pardon.\n",
      "\n",
      "OTHELLO.\n",
      "He needs out\n"
     ]
    }
   ],
   "source": [
    "initial_context = \"OTHELLO.\\nHave you pray'd to-night, Desdemona?\\n\"\n",
    "res = generate(initial_context, model, tokenizer, 350, CFG.device)\n",
    "\n",
    "print(res[1])"
   ]
  },
  {
   "cell_type": "code",
   "execution_count": 23,
   "metadata": {},
   "outputs": [
    {
     "name": "stderr",
     "output_type": "stream",
     "text": [
      "100%|██████████| 895/895 [00:00<00:00, 815002.62it/s]\n"
     ]
    },
    {
     "name": "stdout",
     "output_type": "stream",
     "text": [
      "CHAMBERLAIN.\n",
      "Bear.\n",
      "We have sworn an honour is full of grief. God for ever hot\n",
      "Before a revenge in valiant mood for our earth\n",
      "The unity defeat upon the ship sleep of just\n",
      "Must I take our virtue to the authority.\n",
      "Bear these gods, and make in arm the world,\n",
      "As I to consume upon a fiery earth,\n",
      "Do, not dream more than he private. Peace,\n",
      "Let craight cheerful and life upon me!\n",
      "\n",
      "AUMERLE.\n",
      "If thou art but a poor one of those\n",
      "Beyond the whistening Anjou shame,\n",
      "Why not to flatter if they were extreme\n",
      "As heated to the Troy, beatished by\n",
      "The palt’r bloody of the judgement,\n",
      "Then have happily plucked thee up,\n",
      "And perembled with instinct object, gifting,\n",
      "Do make some sound conjurate hours of heart\n",
      "With societies in sport, and some two men of board\n",
      "Because I do but hand: for in commonwealth\n",
      "A rather would the Trojan’s trumpets make,\n",
      "No less than your son and good leave it hath\n",
      "In his valour’s fitterness.\n",
      "\n",
      "ALL.\n",
      "I know’t; I’ll tell\n"
     ]
    }
   ],
   "source": [
    "initial_context = \"CHAMBERLAIN.\\n\"\n",
    "res = generate(initial_context, model, tokenizer, 350, CFG.device)\n",
    "\n",
    "print(res[1])"
   ]
  },
  {
   "cell_type": "code",
   "execution_count": 25,
   "metadata": {},
   "outputs": [
    {
     "name": "stderr",
     "output_type": "stream",
     "text": [
      "100%|██████████| 895/895 [00:00<00:00, 888707.88it/s]\n"
     ]
    },
    {
     "name": "stdout",
     "output_type": "stream",
     "text": [
      "OTHELLO.\n",
      "Not pacuous, lady. _\n",
      "\n",
      "PEDANT.\n",
      "Deckramed! O gentle, my lord;\n",
      "Thou is not a great good reveller than the measure\n",
      "Of enjoys, and of your son come not to hunt.\n",
      "He gots this same yellow sadness doth now he water,\n",
      "Unw’d soever you underfend her, elevening\n",
      "How he grant they rede so sickle. Hereby:\n",
      "Some words were mutely no loving out;\n",
      "Noble, never knewed in the gallest breast,\n",
      "But, immitted with a canker--praises\n",
      "But three monstrous mannings of self-pious I\n",
      "Will selled upon three follies. O, it is so.\n",
      "For what a brood shall be our miseries shall our hope\n",
      "pricon in pride of ship?\n",
      "This we are diseasant to suffer ours,\n",
      "The Ital only sent your fit talents.\n",
      "Here comes our offices.\n",
      "\n",
      "Enter Romans\n",
      "LEUCESTER.\n",
      "Look you, now.—Keep this night, with thy blood,\n",
      "Which artifest to the mainter your son and live,\n",
      "In good imple sacrifice of your ordinance,\n",
      "If you thought him in a brother’s name of\n"
     ]
    }
   ],
   "source": [
    "initial_context = \"OTHELLO.\\n\"\n",
    "res = generate(initial_context, model, tokenizer, 350, CFG.device)\n",
    "\n",
    "print(res[1])"
   ]
  },
  {
   "cell_type": "markdown",
   "metadata": {},
   "source": [
    "### Losses"
   ]
  },
  {
   "cell_type": "code",
   "execution_count": 17,
   "metadata": {},
   "outputs": [],
   "source": [
    "with open(os.path.join(CFG.model_path, CFG.model_name, 'train_losses.pickle'), 'rb') as f:\n",
    "    train_losses = pickle.load(f)\n",
    "    \n",
    "with open(os.path.join(CFG.model_path, CFG.model_name, 'val_losses.pickle'), 'rb') as f:\n",
    "    val_losses = pickle.load(f)"
   ]
  },
  {
   "cell_type": "code",
   "execution_count": 7,
   "metadata": {},
   "outputs": [
    {
     "data": {
      "text/plain": [
       "<matplotlib.legend.Legend at 0x7f7da3737ca0>"
      ]
     },
     "execution_count": 7,
     "metadata": {},
     "output_type": "execute_result"
    },
    {
     "data": {
      "image/png": "[encoded data removed]",
      "text/plain": [
       "<Figure size 1500x600 with 1 Axes>"
      ]
     },
     "metadata": {},
     "output_type": "display_data"
    }
   ],
   "source": [
    "intervals = [i*CFG.eval_interval for i in range(len(train_losses))]\n",
    "\n",
    "plt.figure(figsize=(15, 6))\n",
    "\n",
    "plt.plot(intervals, train_losses, label='Train CrossEntropy')\n",
    "plt.plot(intervals, val_losses, label='Valid CrossEntropy')\n",
    "plt.xlabel('# Batch')\n",
    "plt.ylabel('CrossEntropy')\n",
    "plt.legend()"
   ]
  },
  {
   "cell_type": "markdown",
   "metadata": {},
   "source": [
    "## Nano GPT, Unigram Tokenizer"
   ]
  },
  {
   "cell_type": "code",
   "execution_count": 8,
   "metadata": {},
   "outputs": [
    {
     "data": {
      "text/plain": [
       "<torch._C.Generator at 0x7f7ea7181350>"
      ]
     },
     "execution_count": 8,
     "metadata": {},
     "output_type": "execute_result"
    }
   ],
   "source": [
    "class CFG:\n",
    "    batch_size = 32\n",
    "    block_size = 384\n",
    "    max_iters = 15_002\n",
    "    eval_interval = 1000\n",
    "    learning_rate = 3e-4\n",
    "    device = 'cuda:0'\n",
    "    eval_iters = 400\n",
    "    n_embed = 384\n",
    "    num_heads = 12\n",
    "    num_layers = 12\n",
    "    ffwd_coef = 4\n",
    "    dropout = 0.25\n",
    "    random_state = 42\n",
    "    vocab_size = 1_000\n",
    "    initial_vocab_multiplier = 12\n",
    "    \n",
    "    model_path = '../models/'\n",
    "    model_name = 'nano_gpt_unigram_1000'\n",
    "    input_data = '../data/extended_input.txt'\n",
    "    \n",
    "    test_size = 0.1\n",
    "    \n",
    "torch.manual_seed(CFG.random_state)"
   ]
  },
  {
   "cell_type": "code",
   "execution_count": 30,
   "metadata": {},
   "outputs": [],
   "source": [
    "with open(os.path.join(CFG.model_path, CFG.model_name, 'tokenizer.pickle'), 'rb') as f:\n",
    "    tokenizer = pickle.load(f)\n",
    "    \n",
    "model = NanoGPT(tokenizer.vocab_size,\n",
    "                CFG.block_size,\n",
    "                CFG.n_embed,\n",
    "                CFG.num_heads,\n",
    "                CFG.dropout, \n",
    "                CFG.ffwd_coef,\n",
    "                CFG.num_layers)\n",
    "\n",
    "model, tokenizer = load_model(CFG.model_path, CFG.model_name, model)\n",
    "model = model.to(CFG.device)"
   ]
  },
  {
   "cell_type": "markdown",
   "metadata": {},
   "source": [
    "### Generation"
   ]
  },
  {
   "cell_type": "code",
   "execution_count": 37,
   "metadata": {},
   "outputs": [
    {
     "name": "stdout",
     "output_type": "stream",
     "text": [
      "OTHELLO.\n",
      "Have you pray'd to-night, Desdemona?\n",
      "\n",
      "BEATRICE.\n",
      "Yes, ye do the shrieken lady, and he hath laid up me in talk. But be not as\n",
      "admir point, but troubled, as you repay, as you can, I, lay acheer in\n",
      "his self-house.\n",
      "\n",
      "LEONATO.\n",
      "Why, how, brother? O God! a fool! you talk of rhlanders? Who is there?\n",
      "\n",
      "FABIAN.\n",
      "She will then dispose return a shirt in her; and will he see how Caesar earth, and\n",
      "be two here. I hope the Prince has fallen enough, Balthaudlas?\n",
      "\n",
      "BENEDICK.\n",
      "Let me speak.\n",
      "\n",
      "LEONATO.\n",
      "But what talk you?\n",
      "\n",
      "BEATRICE.\n",
      "There is nothing matters, though particular men against ears, is enterly\n",
      "pitiful sheen where they did; only, you are wear reward if you have\n",
      "famish, you would desire yourself—leven, my lord,\n",
      "Well he must be no answer.\n",
      "\n",
      "HERO.\n",
      "Why, sir, will thy tongue marry her?\n",
      "\n",
      "BEATRICE.\n",
      "Surely, with what tongue you heard else?\n",
      "\n",
      "BEATRICE.\n",
      "I would he see, but think truthly, for any man should play\n",
      "well a cause of better.\n",
      "\n",
      "LEONATO.\n",
      "In such a doubt of an arren, of jealousy, that is a woman in Ch\n"
     ]
    }
   ],
   "source": [
    "initial_context = \"OTHELLO.\\nHave you pray'd to-night, Desdemona?\\n\"\n",
    "res = generate(initial_context, model, tokenizer, 350, CFG.device)\n",
    "\n",
    "print(res[1])"
   ]
  },
  {
   "cell_type": "code",
   "execution_count": 38,
   "metadata": {},
   "outputs": [
    {
     "name": "stdout",
     "output_type": "stream",
     "text": [
      "CHAMBERLAIN.\n",
      "It faints an el that the wings out long from the eye,—Ten may\n",
      "alt particularly, which are infect to forgo their work with giving\n",
      "of dies.\n",
      "\n",
      "CASSIUS.\n",
      "Cassius, does become them now.\n",
      "Come, come, Caesar.\n",
      "\n",
      "BRUTUS.\n",
      "I hear have sworn not, warm. Till you lov’d them.\n",
      "I’ll get the lady. Good brother, tell me God.\n",
      "Is it a true? You, old thing you are ended dead.\n",
      "\n",
      "BRUTUS.\n",
      "Go to.\n",
      "\n",
      "CASSIUS.\n",
      "Come, Cassius, let’s hiddle; where they hear it.\n",
      "Here comes my chief hither; and ’tis to fear.\n",
      "But of this, let it strive, let my last doom.\n",
      "\n",
      "CASSIUS.\n",
      "Bet good, Caesar, and you too.\n",
      "\n",
      "CASSIUS.\n",
      "Dead them, welcome. Let them accepa, we have.\n",
      "\n",
      "[_A, but leading upon._]\n",
      "\n",
      "CAESAR.\n",
      "You sent in the heat of Antony.\n",
      "The city and room is not well; why not such,\n",
      "But alway, the greater, and the ass as he stands,\n",
      "In every poll ladies now did such prolog.\n",
      "\n",
      "ANTONY.\n",
      "[_Ket_.] Cassius is Cassius: the peace we sp\n"
     ]
    }
   ],
   "source": [
    "initial_context = \"CHAMBERLAIN.\\n\"\n",
    "res = generate(initial_context, model, tokenizer, 350, CFG.device)\n",
    "\n",
    "print(res[1])"
   ]
  },
  {
   "cell_type": "code",
   "execution_count": 39,
   "metadata": {},
   "outputs": [
    {
     "name": "stdout",
     "output_type": "stream",
     "text": [
      "OTHELLO.\n",
      "Geliver not my Cgpeur, but for shame me some devilish honour ye had\n",
      "disamation that hath one years for wot\n",
      "To sure so only and dearly leave-morrow. Is’t true?\n",
      "And see that As honourable lords in hell? Wilt thou dismiss\n",
      "When the strongest elements to beloved, yea, and declined?\n",
      "\n",
      "FIRST SOLDIER.\n",
      "He did commend; and she was well known the party of thine.\n",
      "\n",
      "SECOND SOLDIER.\n",
      "A gentleman that will not bring forth to his ance?\n",
      "\n",
      "ANTONY.\n",
      "What, and it is strange, with a rain senseless black tree, roar’d, there\n",
      "’Twill all his blade senses in his brain.\n",
      "\n",
      "FIRST SOLDIER.\n",
      "This is no matter enough.\n",
      "\n",
      "SECOND SOLDIER.\n",
      "What’s the matter?\n",
      "\n",
      "SECOND SOLDIER.\n",
      "’Tis to be ended.\n",
      "\n",
      "ANTONY.\n",
      "Faith, he is banished, nought but upon that words should be\n",
      "all Serges; and he that our land.\n",
      "\n",
      "ANTONY.\n",
      "Not wondrous ill to, we parted then devours all.\n",
      "Gentlemen not those men.—Did not onceived this strife of you?\n",
      "Think you ’twas the traitor of our\n"
     ]
    }
   ],
   "source": [
    "initial_context = \"OTHELLO.\\n\"\n",
    "res = generate(initial_context, model, tokenizer, 350, CFG.device)\n",
    "\n",
    "print(res[1])"
   ]
  },
  {
   "cell_type": "markdown",
   "metadata": {},
   "source": [
    "### Losses"
   ]
  },
  {
   "cell_type": "code",
   "execution_count": 9,
   "metadata": {},
   "outputs": [],
   "source": [
    "with open(os.path.join(CFG.model_path, CFG.model_name, 'train_losses.pickle'), 'rb') as f:\n",
    "    train_losses = pickle.load(f)\n",
    "    \n",
    "with open(os.path.join(CFG.model_path, CFG.model_name, 'val_losses.pickle'), 'rb') as f:\n",
    "    val_losses = pickle.load(f)"
   ]
  },
  {
   "cell_type": "code",
   "execution_count": 10,
   "metadata": {},
   "outputs": [
    {
     "data": {
      "text/plain": [
       "<matplotlib.legend.Legend at 0x7f7d9e31fa00>"
      ]
     },
     "execution_count": 10,
     "metadata": {},
     "output_type": "execute_result"
    },
    {
     "data": {
      "image/png": "[encoded data removed]",
      "text/plain": [
       "<Figure size 1500x600 with 1 Axes>"
      ]
     },
     "metadata": {},
     "output_type": "display_data"
    }
   ],
   "source": [
    "intervals = [i*CFG.eval_interval for i in range(len(train_losses))]\n",
    "\n",
    "plt.figure(figsize=(15, 6))\n",
    "\n",
    "plt.plot(intervals, train_losses, label='Train CrossEntropy')\n",
    "plt.plot(intervals, val_losses, label='Valid CrossEntropy')\n",
    "plt.xlabel('# Batch')\n",
    "plt.ylabel('CrossEntropy')\n",
    "plt.legend()"
   ]
  }
 ],
 "metadata": {
  "kernelspec": {
   "display_name": "nano_gpt",
   "language": "python",
   "name": "python3"
  },
  "language_info": {
   "codemirror_mode": {
    "name": "ipython",
    "version": 3
   },
   "file_extension": ".py",
   "mimetype": "text/x-python",
   "name": "python",
   "nbconvert_exporter": "python",
   "pygments_lexer": "ipython3",
   "version": "3.10.15"
  }
 },
 "nbformat": 4,
 "nbformat_minor": 2
}
